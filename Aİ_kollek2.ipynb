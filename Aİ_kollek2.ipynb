{
  "nbformat": 4,
  "nbformat_minor": 0,
  "metadata": {
    "colab": {
      "provenance": [],
      "authorship_tag": "ABX9TyMBykI6DbLFJkhMW08Yegk2",
      "include_colab_link": true
    },
    "kernelspec": {
      "name": "python3",
      "display_name": "Python 3"
    },
    "language_info": {
      "name": "python"
    }
  },
  "cells": [
    {
      "cell_type": "markdown",
      "metadata": {
        "id": "view-in-github",
        "colab_type": "text"
      },
      "source": [
        "<a href=\"https://colab.research.google.com/github/Hesenzade323455/ai-task/blob/main/A%C4%B0_kollek2.ipynb\" target=\"_parent\"><img src=\"https://colab.research.google.com/assets/colab-badge.svg\" alt=\"Open In Colab\"/></a>"
      ]
    },
    {
      "cell_type": "code",
      "execution_count": null,
      "metadata": {
        "colab": {
          "base_uri": "https://localhost:8080/"
        },
        "id": "4rtqZzz6gV_S",
        "outputId": "6be21824-1db5-467d-ce7d-50d49a708f23"
      },
      "outputs": [
        {
          "output_type": "stream",
          "name": "stdout",
          "text": [
            "Salam, Dünya!\n"
          ]
        }
      ],
      "source": [
        "def salam():\n",
        "    print(\"Salam, Dünya!\")\n",
        "\n",
        "salam()"
      ]
    },
    {
      "cell_type": "code",
      "source": [
        "def kub_hesabla(n):\n",
        "    return n ** 3\n",
        "\n",
        "print(kub_hesabla(3))"
      ],
      "metadata": {
        "colab": {
          "base_uri": "https://localhost:8080/"
        },
        "id": "KZzEi7cXgmmS",
        "outputId": "a4fa0818-801e-4068-f865-be1212ce8d37"
      },
      "execution_count": null,
      "outputs": [
        {
          "output_type": "stream",
          "name": "stdout",
          "text": [
            "27\n"
          ]
        }
      ]
    },
    {
      "cell_type": "code",
      "source": [
        "def birlesdir(soz1, soz2):\n",
        "    return soz1 + \" \" + soz2\n",
        "\n",
        "print(birlesdir(\"Salam\", \"Dünya\"))"
      ],
      "metadata": {
        "colab": {
          "base_uri": "https://localhost:8080/"
        },
        "id": "nxiV0yp3gt_L",
        "outputId": "c913b5c4-2c62-444a-90b6-c7281a74d23a"
      },
      "execution_count": null,
      "outputs": [
        {
          "output_type": "stream",
          "name": "stdout",
          "text": [
            "Salam Dünya\n"
          ]
        }
      ]
    },
    {
      "cell_type": "code",
      "source": [
        "def cap_et(lst):\n",
        "    for item in lst:\n",
        "        print(item)\n",
        "\n",
        "cap_et([1, 2, 3, \"dörd\"])"
      ],
      "metadata": {
        "colab": {
          "base_uri": "https://localhost:8080/"
        },
        "id": "H2J3OzbEgxl8",
        "outputId": "48d935bc-e183-4303-87dd-0a030f35d83b"
      },
      "execution_count": null,
      "outputs": [
        {
          "output_type": "stream",
          "name": "stdout",
          "text": [
            "1\n",
            "2\n",
            "3\n",
            "dörd\n"
          ]
        }
      ]
    },
    {
      "cell_type": "code",
      "source": [
        "def toplam(*args):\n",
        "    return sum(args)\n",
        "\n",
        "print(toplam(1, 2, 3, 4, 5))"
      ],
      "metadata": {
        "colab": {
          "base_uri": "https://localhost:8080/"
        },
        "id": "znX3go91g0mc",
        "outputId": "552bd2c2-de80-4fcb-ac59-c4fb7efc2cb5"
      },
      "execution_count": null,
      "outputs": [
        {
          "output_type": "stream",
          "name": "stdout",
          "text": [
            "15\n"
          ]
        }
      ]
    },
    {
      "cell_type": "code",
      "source": [
        "def ortalama(*args):\n",
        "    if not args:\n",
        "        return \"Rəqəm yoxdur\"\n",
        "    return sum(args) / len(args)\n",
        "\n",
        "print(ortalama(2, 4, 6, 8))\n",
        "print(ortalama())"
      ],
      "metadata": {
        "colab": {
          "base_uri": "https://localhost:8080/"
        },
        "id": "Me5PlgBwg3Uh",
        "outputId": "ea81f506-33f9-4670-a6dc-e4b3f7a06783"
      },
      "execution_count": null,
      "outputs": [
        {
          "output_type": "stream",
          "name": "stdout",
          "text": [
            "5.0\n",
            "Rəqəm yoxdur\n"
          ]
        }
      ]
    },
    {
      "cell_type": "code",
      "source": [
        "def adlar_rəqəmlər(**kwargs):\n",
        "    for ad, rəqəm in kwargs.items():\n",
        "        print(f\"ad: {ad}, rəqəm: {rəqəm}\")\n",
        "\n",
        "adlar_rəqəmlər(bir=1, iki=2, uc=3)"
      ],
      "metadata": {
        "colab": {
          "base_uri": "https://localhost:8080/"
        },
        "id": "p38XOdn_hRHR",
        "outputId": "2cb48d9d-69c6-4c01-9ca4-b6dc3e88ce25"
      },
      "execution_count": null,
      "outputs": [
        {
          "output_type": "stream",
          "name": "stdout",
          "text": [
            "ad: bir, rəqəm: 1\n",
            "ad: iki, rəqəm: 2\n",
            "ad: uc, rəqəm: 3\n"
          ]
        }
      ]
    },
    {
      "cell_type": "code",
      "source": [
        "def tip_yoxla(dəyər):\n",
        "    if isinstance(dəyər, str):\n",
        "        print(\"mətn\")\n",
        "    elif isinstance(dəyər, (int, float)):\n",
        "        print(\"rəqəm\")\n",
        "    else:\n",
        "        print(\"başqa\")\n",
        "\n",
        "tip_yoxla(\"salam\")\n",
        "tip_yoxla(123)\n",
        "tip_yoxla([1,2,3])"
      ],
      "metadata": {
        "colab": {
          "base_uri": "https://localhost:8080/"
        },
        "id": "9M3VU7EthX46",
        "outputId": "8824fd7c-ceb0-4db3-ab14-70839d938bdd"
      },
      "execution_count": null,
      "outputs": [
        {
          "output_type": "stream",
          "name": "stdout",
          "text": [
            "mətn\n",
            "rəqəm\n",
            "başqa\n"
          ]
        }
      ]
    },
    {
      "cell_type": "code",
      "source": [
        "def yas_kateqoriya():\n",
        "    yas = int(input(\"Yaşınızı daxil edin: \"))\n",
        "    if yas < 18:\n",
        "        print(\"Gənc\")\n",
        "    else:\n",
        "        print(\"Yetkin\")\n",
        "\n",
        "yas_kateqoriya()"
      ],
      "metadata": {
        "colab": {
          "base_uri": "https://localhost:8080/"
        },
        "id": "xGQyIRc4hkCp",
        "outputId": "fc6d08d8-87f1-4d56-da08-8f6cb8e95ec2"
      },
      "execution_count": null,
      "outputs": [
        {
          "output_type": "stream",
          "name": "stdout",
          "text": [
            "Yaşınızı daxil edin: 19\n",
            "Yetkin\n"
          ]
        }
      ]
    },
    {
      "cell_type": "code",
      "source": [
        "def soz_uzunluq():\n",
        "    soz = input(\"Bir söz daxil edin: \")\n",
        "    print(len(soz))\n",
        "\n",
        "soz_uzunluq()"
      ],
      "metadata": {
        "colab": {
          "base_uri": "https://localhost:8080/"
        },
        "id": "95q-Ek_ShqoK",
        "outputId": "7c5294e9-9d1d-4e4e-ac8b-b6544c39b827"
      },
      "execution_count": null,
      "outputs": [
        {
          "output_type": "stream",
          "name": "stdout",
          "text": [
            "Bir söz daxil edin: universitet\n",
            "11\n"
          ]
        }
      ]
    },
    {
      "cell_type": "code",
      "source": [
        "x = -5\n",
        "if x > 0:\n",
        "    print(\"müsbət\")\n",
        "elif x < 0:\n",
        "    print(\"mənfi\")\n",
        "else:\n",
        "    print(\"sıfır\")"
      ],
      "metadata": {
        "colab": {
          "base_uri": "https://localhost:8080/"
        },
        "id": "QQ8lwssuhutY",
        "outputId": "438fc692-9276-4939-a009-c9ca1da1939f"
      },
      "execution_count": null,
      "outputs": [
        {
          "output_type": "stream",
          "name": "stdout",
          "text": [
            "mənfi\n"
          ]
        }
      ]
    },
    {
      "cell_type": "code",
      "source": [
        "n = 7\n",
        "if n % 2 == 0:\n",
        "    print(\"cüt\")\n",
        "else:\n",
        "    print(\"tək\")"
      ],
      "metadata": {
        "colab": {
          "base_uri": "https://localhost:8080/"
        },
        "id": "-qcrYY8UiKJw",
        "outputId": "752676a5-1b46-4b85-9990-25edb65b2d4d"
      },
      "execution_count": null,
      "outputs": [
        {
          "output_type": "stream",
          "name": "stdout",
          "text": [
            "tək\n"
          ]
        }
      ]
    },
    {
      "cell_type": "code",
      "source": [
        "a, b, c = 5, 12, 9\n",
        "print(max(a, b, c))"
      ],
      "metadata": {
        "colab": {
          "base_uri": "https://localhost:8080/"
        },
        "id": "PRSjAF9viMDL",
        "outputId": "a7bf14d6-f948-4289-a1bd-92bde2582222"
      },
      "execution_count": null,
      "outputs": [
        {
          "output_type": "stream",
          "name": "stdout",
          "text": [
            "12\n"
          ]
        }
      ]
    },
    {
      "cell_type": "code",
      "source": [
        "day = 4\n",
        "gunler = {\n",
        "    1: \"Bazar ertəsi\",\n",
        "    2: \"Çərşənbə axşamı\",\n",
        "    3: \"Çərşənbə\",\n",
        "    4: \"Cümə axşamı\",\n",
        "    5: \"Cümə\",\n",
        "    6: \"Şənbə\",\n",
        "    7: \"Bazar\"\n",
        "}\n",
        "print(gunler.get(day, \"Yanlış gün\"))"
      ],
      "metadata": {
        "colab": {
          "base_uri": "https://localhost:8080/"
        },
        "id": "drIPm40piN56",
        "outputId": "80bf7ea1-ea29-4377-cafc-9c8dc0091c0c"
      },
      "execution_count": null,
      "outputs": [
        {
          "output_type": "stream",
          "name": "stdout",
          "text": [
            "Cümə axşamı\n"
          ]
        }
      ]
    },
    {
      "cell_type": "code",
      "source": [
        "temp = 15\n",
        "if temp < 0:\n",
        "    print(\"soyuq\")\n",
        "elif 0 <= temp <= 20:\n",
        "    print(\"normal\")\n",
        "else:\n",
        "    print(\"isti\")"
      ],
      "metadata": {
        "colab": {
          "base_uri": "https://localhost:8080/"
        },
        "id": "WD8KATPBiRu5",
        "outputId": "6887cf9c-bd45-4cff-ea71-d2e9b7d30d33"
      },
      "execution_count": null,
      "outputs": [
        {
          "output_type": "stream",
          "name": "stdout",
          "text": [
            "normal\n"
          ]
        }
      ]
    },
    {
      "cell_type": "code",
      "source": [
        "password = \"sifrem123\"\n",
        "if len(password) < 8:\n",
        "    print(\"qısa\")\n",
        "elif 8 <= len(password) <= 12:\n",
        "    print(\"orta\")\n",
        "else:\n",
        "    print(\"uzun\")"
      ],
      "metadata": {
        "colab": {
          "base_uri": "https://localhost:8080/"
        },
        "id": "3pLstLIvighg",
        "outputId": "aa0aede6-fffe-436a-e1ac-af64c26fa787"
      },
      "execution_count": null,
      "outputs": [
        {
          "output_type": "stream",
          "name": "stdout",
          "text": [
            "orta\n"
          ]
        }
      ]
    },
    {
      "cell_type": "code",
      "source": [
        "password = \"sifrem123\"\n",
        "if len(password) < 8:\n",
        "    print(\"qısa\")\n",
        "elif 8 <= len(password) <= 12:\n",
        "    print(\"orta\")\n",
        "else:\n",
        "    print(\"uzun\")"
      ],
      "metadata": {
        "colab": {
          "base_uri": "https://localhost:8080/"
        },
        "id": "_xorl9y8ipBk",
        "outputId": "86c330c0-6188-4c52-a76d-91b0f0833f3e"
      },
      "execution_count": null,
      "outputs": [
        {
          "output_type": "stream",
          "name": "stdout",
          "text": [
            "orta\n"
          ]
        }
      ]
    },
    {
      "cell_type": "code",
      "source": [
        "for i in range(0, 21):\n",
        "    if i % 2 == 0:\n",
        "        print(i)"
      ],
      "metadata": {
        "colab": {
          "base_uri": "https://localhost:8080/"
        },
        "id": "4Xef3MMrisX9",
        "outputId": "870df9be-5e19-481f-8661-1a6264e1fd1c"
      },
      "execution_count": null,
      "outputs": [
        {
          "output_type": "stream",
          "name": "stdout",
          "text": [
            "0\n",
            "2\n",
            "4\n",
            "6\n",
            "8\n",
            "10\n",
            "12\n",
            "14\n",
            "16\n",
            "18\n",
            "20\n"
          ]
        }
      ]
    },
    {
      "cell_type": "code",
      "source": [
        "text = \"Bağda ərik var idi …\"\n",
        "for herf in text:\n",
        "    print(herf)"
      ],
      "metadata": {
        "colab": {
          "base_uri": "https://localhost:8080/"
        },
        "id": "jwEifKg7iuk_",
        "outputId": "48758cab-765a-4f88-80a4-bfc4413152b4"
      },
      "execution_count": null,
      "outputs": [
        {
          "output_type": "stream",
          "name": "stdout",
          "text": [
            "B\n",
            "a\n",
            "ğ\n",
            "d\n",
            "a\n",
            " \n",
            "ə\n",
            "r\n",
            "i\n",
            "k\n",
            " \n",
            "v\n",
            "a\n",
            "r\n",
            " \n",
            "i\n",
            "d\n",
            "i\n",
            " \n",
            "…\n"
          ]
        }
      ]
    },
    {
      "cell_type": "code",
      "source": [
        "for i in range(1, 11):\n",
        "    if i == 3:\n",
        "        continue\n",
        "    print(i)"
      ],
      "metadata": {
        "colab": {
          "base_uri": "https://localhost:8080/"
        },
        "id": "QDM4LKFkiyFu",
        "outputId": "eb72ea4c-1526-4cc9-e9ec-de1a1951d750"
      },
      "execution_count": null,
      "outputs": [
        {
          "output_type": "stream",
          "name": "stdout",
          "text": [
            "1\n",
            "2\n",
            "4\n",
            "5\n",
            "6\n",
            "7\n",
            "8\n",
            "9\n",
            "10\n"
          ]
        }
      ]
    },
    {
      "cell_type": "code",
      "source": [
        "i = 1\n",
        "while True:\n",
        "    if i % 5 == 0:\n",
        "        print(i)\n",
        "        break\n",
        "    i += 1\n"
      ],
      "metadata": {
        "colab": {
          "base_uri": "https://localhost:8080/"
        },
        "id": "giFvGRVqi0aP",
        "outputId": "d589a0f9-05d9-4b2b-c962-e8f86d9bb5f7"
      },
      "execution_count": null,
      "outputs": [
        {
          "output_type": "stream",
          "name": "stdout",
          "text": [
            "5\n"
          ]
        }
      ]
    },
    {
      "cell_type": "code",
      "source": [
        "numbers = [1, 3, 5, 7, 9]\n",
        "for idx, num in enumerate(numbers):\n",
        "    if num == 5:\n",
        "        print(\"5-in indeksi:\", idx)\n",
        "        break"
      ],
      "metadata": {
        "id": "Csefs-0pi4QB",
        "outputId": "e1e38b97-fdc2-4b0e-889e-f75ca58d18b4",
        "colab": {
          "base_uri": "https://localhost:8080/"
        }
      },
      "execution_count": null,
      "outputs": [
        {
          "output_type": "stream",
          "name": "stdout",
          "text": [
            "5-in indeksi: 2\n"
          ]
        }
      ]
    },
    {
      "cell_type": "code",
      "source": [],
      "metadata": {
        "id": "UztiywTXi6Vg"
      },
      "execution_count": null,
      "outputs": []
    }
  ]
}